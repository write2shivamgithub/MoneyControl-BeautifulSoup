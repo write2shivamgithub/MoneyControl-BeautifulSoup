{
 "cells": [
  {
   "cell_type": "markdown",
   "id": "501bd31f",
   "metadata": {},
   "source": [
    "# Import Libraries"
   ]
  },
  {
   "cell_type": "code",
   "execution_count": 224,
   "id": "795bcada",
   "metadata": {},
   "outputs": [],
   "source": [
    "import pandas as pd\n",
    "from bs4 import BeautifulSoup\n",
    "import requests\n",
    "import time\n",
    "import datetime\n",
    "\n",
    "import smtplib "
   ]
  },
  {
   "cell_type": "markdown",
   "id": "2ffd7ef3",
   "metadata": {},
   "source": [
    "# Connect to Website"
   ]
  },
  {
   "cell_type": "code",
   "execution_count": 225,
   "id": "bcc1e50f",
   "metadata": {},
   "outputs": [
    {
     "name": "stdout",
     "output_type": "stream",
     "text": [
      "Nifty 50 Index: 19,310.15\n",
      "Nifty Percentage Change:  -55.10 (-0.28%)\n"
     ]
    }
   ],
   "source": [
    "url = 'https://www.moneycontrol.com/markets/indian-indices/top-nse-50-companies-list/9?classic=true&categoryId=1&exType=N'\n",
    "html_text = requests.get(url).content\n",
    "soup = BeautifulSoup(html_text, 'lxml')\n",
    "\n",
    "# Find the element that contains the Nifty 50 index value\n",
    "nifty_element = soup.find('strong', id='ltp_inNSX')\n",
    "\n",
    "if nifty_element:\n",
    "    nifty_value = nifty_element.get_text()\n",
    "    print(\"Nifty 50 Index:\", nifty_value)\n",
    "else:\n",
    "    print(\"Nifty 50 index value not found.\")\n",
    "    \n",
    "niftyChg_element = soup.find('span', id='perChg_inNSX')\n",
    "\n",
    "if niftyChg_element:\n",
    "    niftyChg_value = niftyChg_element.get_text()\n",
    "    print(\"Nifty Percentage Change:\", niftyChg_value)\n",
    "else:\n",
    "    print(\"Nifty Percentage Change value not found.\")\n"
   ]
  },
  {
   "cell_type": "markdown",
   "id": "7c880db4",
   "metadata": {},
   "source": [
    "## Get the Current Date and Time"
   ]
  },
  {
   "cell_type": "code",
   "execution_count": 226,
   "id": "4db87753",
   "metadata": {},
   "outputs": [
    {
     "name": "stdout",
     "output_type": "stream",
     "text": [
      "Current Date and Time: 2023-08-19 15:40:00.256315\n"
     ]
    }
   ],
   "source": [
    "import datetime\n",
    "\n",
    "current_datetime = datetime.datetime.now()\n",
    "\n",
    "print(\"Current Date and Time:\", current_datetime)"
   ]
  },
  {
   "cell_type": "code",
   "execution_count": 227,
   "id": "1bd7f835",
   "metadata": {},
   "outputs": [],
   "source": [
    "import csv\n",
    "header = ['Nifty 50 Index','Nifty Percentage Change','Date & Time']\n",
    "data = [nifty_value,niftyChg_value,current_datetime]\n",
    "\n",
    "with open('MoneycontrolWebScrapperDataset.csv','w',newline='',encoding='UTF8') as f:    # w for write data\n",
    "    writer = csv.writer(f)                        #creating csv\n",
    "    writer.writerow(header)                       #insertion of heading\n",
    "    writer.writerow(data)                         #insertion of data"
   ]
  },
  {
   "cell_type": "code",
   "execution_count": 228,
   "id": "7230c06c",
   "metadata": {},
   "outputs": [
    {
     "name": "stdout",
     "output_type": "stream",
     "text": [
      "  Nifty 50 Index Nifty Percentage Change                 Date & Time\n",
      "0      19,310.15         -55.10 (-0.28%)  2023-08-19 15:40:00.256315\n"
     ]
    }
   ],
   "source": [
    "import pandas as pd\n",
    "df = pd.read_csv(r'C:\\Users\\LENOVO\\MoneycontrolWebScrapperDataset.csv')\n",
    "print(df)"
   ]
  },
  {
   "cell_type": "markdown",
   "id": "b1203602",
   "metadata": {},
   "source": [
    "# Now Appending Data to the CSV"
   ]
  },
  {
   "cell_type": "code",
   "execution_count": 229,
   "id": "b121296c",
   "metadata": {},
   "outputs": [],
   "source": [
    "with open('MoneycontrolWebScrapperDataset.csv', 'a+', newline='', encoding='UTF8') as f:\n",
    "    writer = csv.writer(f)\n",
    "    \n",
    "    # Write header if the file is empty (only for the first time)\n",
    "    if f.tell() == 0:\n",
    "        writer.writerow(header)\n",
    "    \n",
    "    writer.writerow(data)\n",
    "          "
   ]
  },
  {
   "cell_type": "code",
   "execution_count": 230,
   "id": "6693ad9c",
   "metadata": {},
   "outputs": [],
   "source": [
    "def check_index():\n",
    "    url = 'https://www.moneycontrol.com/markets/indian-indices/top-nse-50-companies-list/9?classic=true&categoryId=1&exType=N'\n",
    "    html_text = requests.get(url).content\n",
    "    soup = BeautifulSoup(html_text, 'lxml')\n",
    "    \n",
    "    nifty_element = soup.find('strong', id='ltp_inNSX')\n",
    "    nifty_value_text = nifty_element.get_text() if nifty_element else \"N/A\"\n",
    "    nifty_value = float(nifty_value_text.replace(',', '')) if nifty_value_text != \"N/A\" else 0.0\n",
    "    \n",
    "    niftyChg_element = soup.find('span', id='perChg_inNSX')\n",
    "    niftyChg_value = niftyChg_element.get_text() if niftyChg_element else \"N/A\"\n",
    "    \n",
    "    current_datetime = datetime.datetime.now()\n",
    "    \n",
    "    header = ['Nifty 50 Index', 'Nifty Percentage Change', 'Date & Time']\n",
    "    data = [nifty_value, niftyChg_value, current_datetime]\n",
    "    \n",
    "    with open('MoneycontrolWebScrapperDataset.csv', 'a+', newline='', encoding='UTF8') as f:\n",
    "        writer = csv.writer(f)\n",
    "        writer.writerow(data)\n",
    "        \n",
    "    if (nifty_value >= 19300.00):\n",
    "        send_mail()\n",
    "        \n"
   ]
  },
  {
   "cell_type": "markdown",
   "id": "569a29f9",
   "metadata": {},
   "source": [
    "## Setting Timer"
   ]
  },
  {
   "cell_type": "code",
   "execution_count": 232,
   "id": "7a2978dc",
   "metadata": {},
   "outputs": [
    {
     "ename": "SMTPAuthenticationError",
     "evalue": "(534, b'5.7.9 Application-specific password required. Learn more at\\n5.7.9  https://support.google.com/mail/?p=InvalidSecondFactor u16-20020a170903125000b001bb8be10a84sm3278209plh.304 - gsmtp')",
     "output_type": "error",
     "traceback": [
      "\u001b[1;31m---------------------------------------------------------------------------\u001b[0m",
      "\u001b[1;31mSMTPAuthenticationError\u001b[0m                   Traceback (most recent call last)",
      "\u001b[1;32m~\\AppData\\Local\\Temp\\ipykernel_14896\\2787563592.py\u001b[0m in \u001b[0;36m<module>\u001b[1;34m\u001b[0m\n\u001b[0;32m      1\u001b[0m \u001b[1;32mwhile\u001b[0m \u001b[1;32mTrue\u001b[0m\u001b[1;33m:\u001b[0m\u001b[1;33m\u001b[0m\u001b[1;33m\u001b[0m\u001b[0m\n\u001b[1;32m----> 2\u001b[1;33m     \u001b[0mcheck_index\u001b[0m\u001b[1;33m(\u001b[0m\u001b[1;33m)\u001b[0m\u001b[1;33m\u001b[0m\u001b[1;33m\u001b[0m\u001b[0m\n\u001b[0m\u001b[0;32m      3\u001b[0m     \u001b[0mtime\u001b[0m\u001b[1;33m.\u001b[0m\u001b[0msleep\u001b[0m\u001b[1;33m(\u001b[0m\u001b[1;36m1\u001b[0m\u001b[1;33m)\u001b[0m\u001b[1;33m\u001b[0m\u001b[1;33m\u001b[0m\u001b[0m\n",
      "\u001b[1;32m~\\AppData\\Local\\Temp\\ipykernel_14896\\400960941.py\u001b[0m in \u001b[0;36mcheck_index\u001b[1;34m()\u001b[0m\n\u001b[0;32m     21\u001b[0m \u001b[1;33m\u001b[0m\u001b[0m\n\u001b[0;32m     22\u001b[0m     \u001b[1;32mif\u001b[0m \u001b[1;33m(\u001b[0m\u001b[0mnifty_value\u001b[0m \u001b[1;33m>=\u001b[0m \u001b[1;36m19300.00\u001b[0m\u001b[1;33m)\u001b[0m\u001b[1;33m:\u001b[0m\u001b[1;33m\u001b[0m\u001b[1;33m\u001b[0m\u001b[0m\n\u001b[1;32m---> 23\u001b[1;33m         \u001b[0msend_mail\u001b[0m\u001b[1;33m(\u001b[0m\u001b[1;33m)\u001b[0m\u001b[1;33m\u001b[0m\u001b[1;33m\u001b[0m\u001b[0m\n\u001b[0m\u001b[0;32m     24\u001b[0m \u001b[1;33m\u001b[0m\u001b[0m\n",
      "\u001b[1;32m~\\AppData\\Local\\Temp\\ipykernel_14896\\2745498207.py\u001b[0m in \u001b[0;36msend_mail\u001b[1;34m()\u001b[0m\n\u001b[0;32m      4\u001b[0m     \u001b[1;31m#server.startls()\u001b[0m\u001b[1;33m\u001b[0m\u001b[1;33m\u001b[0m\u001b[0m\n\u001b[0;32m      5\u001b[0m     \u001b[0mserver\u001b[0m\u001b[1;33m.\u001b[0m\u001b[0mehlo\u001b[0m\u001b[1;33m(\u001b[0m\u001b[1;33m)\u001b[0m\u001b[1;33m\u001b[0m\u001b[1;33m\u001b[0m\u001b[0m\n\u001b[1;32m----> 6\u001b[1;33m     \u001b[0mserver\u001b[0m\u001b[1;33m.\u001b[0m\u001b[0mlogin\u001b[0m\u001b[1;33m(\u001b[0m\u001b[1;34m'shivamshankaraacharya@gmail.com'\u001b[0m\u001b[1;33m,\u001b[0m\u001b[1;34m'anishabad'\u001b[0m\u001b[1;33m)\u001b[0m\u001b[1;33m\u001b[0m\u001b[1;33m\u001b[0m\u001b[0m\n\u001b[0m\u001b[0;32m      7\u001b[0m \u001b[1;33m\u001b[0m\u001b[0m\n\u001b[0;32m      8\u001b[0m     \u001b[0msubject\u001b[0m \u001b[1;33m=\u001b[0m \u001b[1;34m'The Nifty Index you want is below 19300! Now is your chance to buy!'\u001b[0m\u001b[1;33m\u001b[0m\u001b[1;33m\u001b[0m\u001b[0m\n",
      "\u001b[1;32m~\\anaconda3\\lib\\smtplib.py\u001b[0m in \u001b[0;36mlogin\u001b[1;34m(self, user, password, initial_response_ok)\u001b[0m\n\u001b[0;32m    748\u001b[0m \u001b[1;33m\u001b[0m\u001b[0m\n\u001b[0;32m    749\u001b[0m         \u001b[1;31m# We could not login successfully.  Return result of last attempt.\u001b[0m\u001b[1;33m\u001b[0m\u001b[1;33m\u001b[0m\u001b[0m\n\u001b[1;32m--> 750\u001b[1;33m         \u001b[1;32mraise\u001b[0m \u001b[0mlast_exception\u001b[0m\u001b[1;33m\u001b[0m\u001b[1;33m\u001b[0m\u001b[0m\n\u001b[0m\u001b[0;32m    751\u001b[0m \u001b[1;33m\u001b[0m\u001b[0m\n\u001b[0;32m    752\u001b[0m     \u001b[1;32mdef\u001b[0m \u001b[0mstarttls\u001b[0m\u001b[1;33m(\u001b[0m\u001b[0mself\u001b[0m\u001b[1;33m,\u001b[0m \u001b[0mkeyfile\u001b[0m\u001b[1;33m=\u001b[0m\u001b[1;32mNone\u001b[0m\u001b[1;33m,\u001b[0m \u001b[0mcertfile\u001b[0m\u001b[1;33m=\u001b[0m\u001b[1;32mNone\u001b[0m\u001b[1;33m,\u001b[0m \u001b[0mcontext\u001b[0m\u001b[1;33m=\u001b[0m\u001b[1;32mNone\u001b[0m\u001b[1;33m)\u001b[0m\u001b[1;33m:\u001b[0m\u001b[1;33m\u001b[0m\u001b[1;33m\u001b[0m\u001b[0m\n",
      "\u001b[1;32m~\\anaconda3\\lib\\smtplib.py\u001b[0m in \u001b[0;36mlogin\u001b[1;34m(self, user, password, initial_response_ok)\u001b[0m\n\u001b[0;32m    737\u001b[0m             \u001b[0mmethod_name\u001b[0m \u001b[1;33m=\u001b[0m \u001b[1;34m'auth_'\u001b[0m \u001b[1;33m+\u001b[0m \u001b[0mauthmethod\u001b[0m\u001b[1;33m.\u001b[0m\u001b[0mlower\u001b[0m\u001b[1;33m(\u001b[0m\u001b[1;33m)\u001b[0m\u001b[1;33m.\u001b[0m\u001b[0mreplace\u001b[0m\u001b[1;33m(\u001b[0m\u001b[1;34m'-'\u001b[0m\u001b[1;33m,\u001b[0m \u001b[1;34m'_'\u001b[0m\u001b[1;33m)\u001b[0m\u001b[1;33m\u001b[0m\u001b[1;33m\u001b[0m\u001b[0m\n\u001b[0;32m    738\u001b[0m             \u001b[1;32mtry\u001b[0m\u001b[1;33m:\u001b[0m\u001b[1;33m\u001b[0m\u001b[1;33m\u001b[0m\u001b[0m\n\u001b[1;32m--> 739\u001b[1;33m                 (code, resp) = self.auth(\n\u001b[0m\u001b[0;32m    740\u001b[0m                     \u001b[0mauthmethod\u001b[0m\u001b[1;33m,\u001b[0m \u001b[0mgetattr\u001b[0m\u001b[1;33m(\u001b[0m\u001b[0mself\u001b[0m\u001b[1;33m,\u001b[0m \u001b[0mmethod_name\u001b[0m\u001b[1;33m)\u001b[0m\u001b[1;33m,\u001b[0m\u001b[1;33m\u001b[0m\u001b[1;33m\u001b[0m\u001b[0m\n\u001b[0;32m    741\u001b[0m                     initial_response_ok=initial_response_ok)\n",
      "\u001b[1;32m~\\anaconda3\\lib\\smtplib.py\u001b[0m in \u001b[0;36mauth\u001b[1;34m(self, mechanism, authobject, initial_response_ok)\u001b[0m\n\u001b[0;32m    660\u001b[0m         \u001b[1;32mif\u001b[0m \u001b[0mcode\u001b[0m \u001b[1;32min\u001b[0m \u001b[1;33m(\u001b[0m\u001b[1;36m235\u001b[0m\u001b[1;33m,\u001b[0m \u001b[1;36m503\u001b[0m\u001b[1;33m)\u001b[0m\u001b[1;33m:\u001b[0m\u001b[1;33m\u001b[0m\u001b[1;33m\u001b[0m\u001b[0m\n\u001b[0;32m    661\u001b[0m             \u001b[1;32mreturn\u001b[0m \u001b[1;33m(\u001b[0m\u001b[0mcode\u001b[0m\u001b[1;33m,\u001b[0m \u001b[0mresp\u001b[0m\u001b[1;33m)\u001b[0m\u001b[1;33m\u001b[0m\u001b[1;33m\u001b[0m\u001b[0m\n\u001b[1;32m--> 662\u001b[1;33m         \u001b[1;32mraise\u001b[0m \u001b[0mSMTPAuthenticationError\u001b[0m\u001b[1;33m(\u001b[0m\u001b[0mcode\u001b[0m\u001b[1;33m,\u001b[0m \u001b[0mresp\u001b[0m\u001b[1;33m)\u001b[0m\u001b[1;33m\u001b[0m\u001b[1;33m\u001b[0m\u001b[0m\n\u001b[0m\u001b[0;32m    663\u001b[0m \u001b[1;33m\u001b[0m\u001b[0m\n\u001b[0;32m    664\u001b[0m     \u001b[1;32mdef\u001b[0m \u001b[0mauth_cram_md5\u001b[0m\u001b[1;33m(\u001b[0m\u001b[0mself\u001b[0m\u001b[1;33m,\u001b[0m \u001b[0mchallenge\u001b[0m\u001b[1;33m=\u001b[0m\u001b[1;32mNone\u001b[0m\u001b[1;33m)\u001b[0m\u001b[1;33m:\u001b[0m\u001b[1;33m\u001b[0m\u001b[1;33m\u001b[0m\u001b[0m\n",
      "\u001b[1;31mSMTPAuthenticationError\u001b[0m: (534, b'5.7.9 Application-specific password required. Learn more at\\n5.7.9  https://support.google.com/mail/?p=InvalidSecondFactor u16-20020a170903125000b001bb8be10a84sm3278209plh.304 - gsmtp')"
     ]
    }
   ],
   "source": [
    "while True:\n",
    "    check_index()\n",
    "    time.sleep(1)"
   ]
  },
  {
   "cell_type": "code",
   "execution_count": 233,
   "id": "c8d4fd13",
   "metadata": {},
   "outputs": [
    {
     "name": "stdout",
     "output_type": "stream",
     "text": [
      "  Nifty 50 Index Nifty Percentage Change                 Date & Time\n",
      "0      19,310.15         -55.10 (-0.28%)  2023-08-19 15:40:00.256315\n",
      "1      19,310.15         -55.10 (-0.28%)  2023-08-19 15:40:00.256315\n",
      "2       19310.15         -55.10 (-0.28%)  2023-08-19 15:40:01.172843\n",
      "3       19310.15         -55.10 (-0.28%)  2023-08-19 15:41:30.122791\n"
     ]
    }
   ],
   "source": [
    "import pandas as pd\n",
    "df = pd.read_csv(r'C:\\Users\\LENOVO\\MoneycontrolWebScrapperDataset.csv')\n",
    "print(df)"
   ]
  },
  {
   "cell_type": "code",
   "execution_count": 234,
   "id": "4ba4b8fc",
   "metadata": {},
   "outputs": [],
   "source": [
    "def send_mail():\n",
    "    server = smtplib.SMTP_SSL('smtp.gmail.com',465)\n",
    "    server.ehlo()\n",
    "    #server.startls()\n",
    "    server.ehlo()\n",
    "    server.login('shivamshankaraacharya@gmail.com','')\n",
    "    \n",
    "    subject = 'The Nifty Index you want is below 19300! Now is your chance to buy!'\n",
    "    body = \"Shivam is the moment we have been waiting for. Now its chance to pick up the call. Don't mess\"\n",
    "    \n",
    "    msg = f'subject: {subject}\\n\\n{body}'\n",
    "    \n",
    "    server.sendmail(\n",
    "        'shivamshankaraacharya@gmail.com',\n",
    "        msg\n",
    "    )\n",
    "    "
   ]
  },
  {
   "cell_type": "code",
   "execution_count": null,
   "id": "9f8f92f3",
   "metadata": {},
   "outputs": [],
   "source": []
  }
 ],
 "metadata": {
  "kernelspec": {
   "display_name": "Python 3 (ipykernel)",
   "language": "python",
   "name": "python3"
  },
  "language_info": {
   "codemirror_mode": {
    "name": "ipython",
    "version": 3
   },
   "file_extension": ".py",
   "mimetype": "text/x-python",
   "name": "python",
   "nbconvert_exporter": "python",
   "pygments_lexer": "ipython3",
   "version": "3.9.13"
  }
 },
 "nbformat": 4,
 "nbformat_minor": 5
}
